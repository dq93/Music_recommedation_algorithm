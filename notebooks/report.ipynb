{
 "cells": [
  {
   "cell_type": "markdown",
   "metadata": {},
   "source": [
    "# Report\n",
    "\n",
    "i. Which insights did you gain from your EDA? Were any columns highly correlated? If so, name them.\n",
    "\n",
    "Pop has the most songs in the dataset and hip hop has only a few compared to it, since hip hop hardly enters the dataset until the 2010s. Hip hop then explodes in popularity through the rest of the decade.\n",
    "\n",
    "The top artists have many, many songs and yet there are many artists in the dataset that only have 1.\n",
    "Sadness is the biggest topic, followed by violence, world/life, and obscene. Music, night/time, romantic, and feelings are rarely seen compared to the top 4 topics.\n",
    "\n",
    "Obscene starts out slow and then jumps in popularity through the years. Feelings never seems to get much popularity but that may be attributed to its vagueness, since sadness is a feeling and it stays fairly popular.\n",
    "\n",
    "The newer a song is, the higher the odds that it has more words than older songs.\n",
    "\n",
    "Within the top 10 artists the biggest ones have hundreds of songs and they heavily contribute to the country genre, possibly skewing some data.\n",
    "\n",
    "There were not any columns that had a high correlation. However age and release date have a -1 correlation since age is effectively an inverse of the release dates but normalized.\n",
    "\n",
    "ii. How did you determine which columns to drop or keep? If your EDA informed this process, explain which insights you used to determine which columns were not needed.\n",
    "\n",
    "The -1 correlation of age and release data made me realize that I don't need to keep both as they are mirror images of each other. I chose to drop release date because age is already normalized. I also drop the unnamed: 0 column because it seems to be a column that was unintended since it has no info. Besides those I dropped all the categorical columns because I did not believe they would be useful for the algorithm to learn. Perhaps with hot-one encoding they would be useful but I think it would be better for now to just drop them.\n",
    "\n",
    "iii. What was the optimal number of clusters in your cluster model? Explain how you determined this value.\n",
    "\n",
    "I used the elbow plot and the silhouette plot to determine this. I try to find a fair point that would work for both.\n",
    "\n",
    "iv. Take a look at the respective songs that fell into your clusters. Describe these clusters in human terms to the best of your ability using the columns in your dataset (for example high-gospel songs, low-gospel songs, etc). Feel free to listen to these songs as well to get a sense of what nuance your algorithm picked up on.\n",
    "\n",
    "Cluster 9 picked up all rock songs for the first 5 songs, cluster 5 picked up on mostly older songs, which tracks for the romance genre it has. Cluster 1 songs I feel that htey sound like they are \"fun\" but without out sounding over the top, if that make any sense. They sound more chill.\n",
    "\n",
    "v. Take a look at the clusters that your algorithm assigned to your test samples. Based on these clusters, which songs would you recommend to this user?\n",
    "\n",
    "Songs that fall in cluster 6 because it grouped most songs in that cluster. pistol grip pump, silencio, eso beso."
   ]
  }
 ],
 "metadata": {
  "language_info": {
   "name": "python"
  }
 },
 "nbformat": 4,
 "nbformat_minor": 2
}
