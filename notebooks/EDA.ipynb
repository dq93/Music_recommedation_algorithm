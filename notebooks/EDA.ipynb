{
 "cells": [
  {
   "cell_type": "code",
   "execution_count": 2,
   "metadata": {},
   "outputs": [],
   "source": [
    "import pandas as pd\n",
    "import matplotlib.pyplot as plt\n",
    "import seaborn as sns\n",
    "\n",
    "df = pd.read_csv('/Users/sa22/Documents/code/Music_recommedation_algorithm/data/raw/train.csv')"
   ]
  },
  {
   "cell_type": "code",
   "execution_count": 3,
   "metadata": {},
   "outputs": [
    {
     "data": {
      "text/html": [
       "<div>\n",
       "<style scoped>\n",
       "    .dataframe tbody tr th:only-of-type {\n",
       "        vertical-align: middle;\n",
       "    }\n",
       "\n",
       "    .dataframe tbody tr th {\n",
       "        vertical-align: top;\n",
       "    }\n",
       "\n",
       "    .dataframe thead th {\n",
       "        text-align: right;\n",
       "    }\n",
       "</style>\n",
       "<table border=\"1\" class=\"dataframe\">\n",
       "  <thead>\n",
       "    <tr style=\"text-align: right;\">\n",
       "      <th></th>\n",
       "      <th>Unnamed: 0</th>\n",
       "      <th>artist_name</th>\n",
       "      <th>track_name</th>\n",
       "      <th>release_date</th>\n",
       "      <th>genre</th>\n",
       "      <th>lyrics</th>\n",
       "      <th>len</th>\n",
       "      <th>dating</th>\n",
       "      <th>violence</th>\n",
       "      <th>world/life</th>\n",
       "      <th>...</th>\n",
       "      <th>communication</th>\n",
       "      <th>obscene</th>\n",
       "      <th>music</th>\n",
       "      <th>movement/places</th>\n",
       "      <th>light/visual perceptions</th>\n",
       "      <th>family/spiritual</th>\n",
       "      <th>sadness</th>\n",
       "      <th>feelings</th>\n",
       "      <th>topic</th>\n",
       "      <th>age</th>\n",
       "    </tr>\n",
       "  </thead>\n",
       "  <tbody>\n",
       "    <tr>\n",
       "      <th>0</th>\n",
       "      <td>0</td>\n",
       "      <td>mukesh</td>\n",
       "      <td>mohabbat bhi jhoothi</td>\n",
       "      <td>1950</td>\n",
       "      <td>pop</td>\n",
       "      <td>hold time feel break feel untrue convince spea...</td>\n",
       "      <td>95</td>\n",
       "      <td>0.000598</td>\n",
       "      <td>0.063746</td>\n",
       "      <td>0.000598</td>\n",
       "      <td>...</td>\n",
       "      <td>0.263751</td>\n",
       "      <td>0.000598</td>\n",
       "      <td>0.039288</td>\n",
       "      <td>0.000598</td>\n",
       "      <td>0.000598</td>\n",
       "      <td>0.000598</td>\n",
       "      <td>0.380299</td>\n",
       "      <td>0.117175</td>\n",
       "      <td>sadness</td>\n",
       "      <td>1.0</td>\n",
       "    </tr>\n",
       "    <tr>\n",
       "      <th>1</th>\n",
       "      <td>4</td>\n",
       "      <td>frankie laine</td>\n",
       "      <td>i believe</td>\n",
       "      <td>1950</td>\n",
       "      <td>pop</td>\n",
       "      <td>believe drop rain fall grow believe darkest ni...</td>\n",
       "      <td>51</td>\n",
       "      <td>0.035537</td>\n",
       "      <td>0.096777</td>\n",
       "      <td>0.443435</td>\n",
       "      <td>...</td>\n",
       "      <td>0.001284</td>\n",
       "      <td>0.001284</td>\n",
       "      <td>0.118034</td>\n",
       "      <td>0.001284</td>\n",
       "      <td>0.212681</td>\n",
       "      <td>0.051124</td>\n",
       "      <td>0.001284</td>\n",
       "      <td>0.001284</td>\n",
       "      <td>world/life</td>\n",
       "      <td>1.0</td>\n",
       "    </tr>\n",
       "    <tr>\n",
       "      <th>2</th>\n",
       "      <td>6</td>\n",
       "      <td>johnnie ray</td>\n",
       "      <td>cry</td>\n",
       "      <td>1950</td>\n",
       "      <td>pop</td>\n",
       "      <td>sweetheart send letter goodbye secret feel bet...</td>\n",
       "      <td>24</td>\n",
       "      <td>0.002770</td>\n",
       "      <td>0.002770</td>\n",
       "      <td>0.002770</td>\n",
       "      <td>...</td>\n",
       "      <td>0.250668</td>\n",
       "      <td>0.002770</td>\n",
       "      <td>0.323794</td>\n",
       "      <td>0.002770</td>\n",
       "      <td>0.002770</td>\n",
       "      <td>0.002770</td>\n",
       "      <td>0.002770</td>\n",
       "      <td>0.225422</td>\n",
       "      <td>music</td>\n",
       "      <td>1.0</td>\n",
       "    </tr>\n",
       "    <tr>\n",
       "      <th>3</th>\n",
       "      <td>10</td>\n",
       "      <td>pérez prado</td>\n",
       "      <td>patricia</td>\n",
       "      <td>1950</td>\n",
       "      <td>pop</td>\n",
       "      <td>kiss lips want stroll charm mambo chacha merin...</td>\n",
       "      <td>54</td>\n",
       "      <td>0.048249</td>\n",
       "      <td>0.001548</td>\n",
       "      <td>0.001548</td>\n",
       "      <td>...</td>\n",
       "      <td>0.001548</td>\n",
       "      <td>0.001548</td>\n",
       "      <td>0.001548</td>\n",
       "      <td>0.129250</td>\n",
       "      <td>0.001548</td>\n",
       "      <td>0.001548</td>\n",
       "      <td>0.225889</td>\n",
       "      <td>0.001548</td>\n",
       "      <td>romantic</td>\n",
       "      <td>1.0</td>\n",
       "    </tr>\n",
       "    <tr>\n",
       "      <th>4</th>\n",
       "      <td>12</td>\n",
       "      <td>giorgos papadopoulos</td>\n",
       "      <td>apopse eida oneiro</td>\n",
       "      <td>1950</td>\n",
       "      <td>pop</td>\n",
       "      <td>till darling till matter know till dream live ...</td>\n",
       "      <td>48</td>\n",
       "      <td>0.001350</td>\n",
       "      <td>0.001350</td>\n",
       "      <td>0.417772</td>\n",
       "      <td>...</td>\n",
       "      <td>0.001350</td>\n",
       "      <td>0.001350</td>\n",
       "      <td>0.001350</td>\n",
       "      <td>0.001350</td>\n",
       "      <td>0.001350</td>\n",
       "      <td>0.029755</td>\n",
       "      <td>0.068800</td>\n",
       "      <td>0.001350</td>\n",
       "      <td>romantic</td>\n",
       "      <td>1.0</td>\n",
       "    </tr>\n",
       "  </tbody>\n",
       "</table>\n",
       "<p>5 rows × 24 columns</p>\n",
       "</div>"
      ],
      "text/plain": [
       "   Unnamed: 0           artist_name            track_name  release_date genre  \\\n",
       "0           0                mukesh  mohabbat bhi jhoothi          1950   pop   \n",
       "1           4         frankie laine             i believe          1950   pop   \n",
       "2           6           johnnie ray                   cry          1950   pop   \n",
       "3          10           pérez prado              patricia          1950   pop   \n",
       "4          12  giorgos papadopoulos    apopse eida oneiro          1950   pop   \n",
       "\n",
       "                                              lyrics  len    dating  violence  \\\n",
       "0  hold time feel break feel untrue convince spea...   95  0.000598  0.063746   \n",
       "1  believe drop rain fall grow believe darkest ni...   51  0.035537  0.096777   \n",
       "2  sweetheart send letter goodbye secret feel bet...   24  0.002770  0.002770   \n",
       "3  kiss lips want stroll charm mambo chacha merin...   54  0.048249  0.001548   \n",
       "4  till darling till matter know till dream live ...   48  0.001350  0.001350   \n",
       "\n",
       "   world/life  ...  communication   obscene     music  movement/places  \\\n",
       "0    0.000598  ...       0.263751  0.000598  0.039288         0.000598   \n",
       "1    0.443435  ...       0.001284  0.001284  0.118034         0.001284   \n",
       "2    0.002770  ...       0.250668  0.002770  0.323794         0.002770   \n",
       "3    0.001548  ...       0.001548  0.001548  0.001548         0.129250   \n",
       "4    0.417772  ...       0.001350  0.001350  0.001350         0.001350   \n",
       "\n",
       "   light/visual perceptions  family/spiritual   sadness  feelings       topic  \\\n",
       "0                  0.000598          0.000598  0.380299  0.117175     sadness   \n",
       "1                  0.212681          0.051124  0.001284  0.001284  world/life   \n",
       "2                  0.002770          0.002770  0.002770  0.225422       music   \n",
       "3                  0.001548          0.001548  0.225889  0.001548    romantic   \n",
       "4                  0.001350          0.029755  0.068800  0.001350    romantic   \n",
       "\n",
       "   age  \n",
       "0  1.0  \n",
       "1  1.0  \n",
       "2  1.0  \n",
       "3  1.0  \n",
       "4  1.0  \n",
       "\n",
       "[5 rows x 24 columns]"
      ]
     },
     "execution_count": 3,
     "metadata": {},
     "output_type": "execute_result"
    }
   ],
   "source": [
    "df.head()"
   ]
  },
  {
   "cell_type": "code",
   "execution_count": 4,
   "metadata": {},
   "outputs": [
    {
     "data": {
      "text/plain": [
       "(28362, 24)"
      ]
     },
     "execution_count": 4,
     "metadata": {},
     "output_type": "execute_result"
    }
   ],
   "source": [
    "df.shape"
   ]
  },
  {
   "cell_type": "code",
   "execution_count": 5,
   "metadata": {},
   "outputs": [
    {
     "name": "stdout",
     "output_type": "stream",
     "text": [
      "<class 'pandas.core.frame.DataFrame'>\n",
      "RangeIndex: 28362 entries, 0 to 28361\n",
      "Data columns (total 24 columns):\n",
      " #   Column                    Non-Null Count  Dtype  \n",
      "---  ------                    --------------  -----  \n",
      " 0   Unnamed: 0                28362 non-null  int64  \n",
      " 1   artist_name               28362 non-null  object \n",
      " 2   track_name                28362 non-null  object \n",
      " 3   release_date              28362 non-null  int64  \n",
      " 4   genre                     28362 non-null  object \n",
      " 5   lyrics                    28362 non-null  object \n",
      " 6   len                       28362 non-null  int64  \n",
      " 7   dating                    28362 non-null  float64\n",
      " 8   violence                  28362 non-null  float64\n",
      " 9   world/life                28362 non-null  float64\n",
      " 10  night/time                28362 non-null  float64\n",
      " 11  shake the audience        28362 non-null  float64\n",
      " 12  family/gospel             28362 non-null  float64\n",
      " 13  romantic                  28362 non-null  float64\n",
      " 14  communication             28362 non-null  float64\n",
      " 15  obscene                   28362 non-null  float64\n",
      " 16  music                     28362 non-null  float64\n",
      " 17  movement/places           28362 non-null  float64\n",
      " 18  light/visual perceptions  28362 non-null  float64\n",
      " 19  family/spiritual          28362 non-null  float64\n",
      " 20  sadness                   28362 non-null  float64\n",
      " 21  feelings                  28362 non-null  float64\n",
      " 22  topic                     28362 non-null  object \n",
      " 23  age                       28362 non-null  float64\n",
      "dtypes: float64(16), int64(3), object(5)\n",
      "memory usage: 5.2+ MB\n"
     ]
    }
   ],
   "source": [
    "df.info()"
   ]
  },
  {
   "cell_type": "code",
   "execution_count": 27,
   "metadata": {},
   "outputs": [
    {
     "data": {
      "text/html": [
       "<div>\n",
       "<style scoped>\n",
       "    .dataframe tbody tr th:only-of-type {\n",
       "        vertical-align: middle;\n",
       "    }\n",
       "\n",
       "    .dataframe tbody tr th {\n",
       "        vertical-align: top;\n",
       "    }\n",
       "\n",
       "    .dataframe thead th {\n",
       "        text-align: right;\n",
       "    }\n",
       "</style>\n",
       "<table border=\"1\" class=\"dataframe\">\n",
       "  <thead>\n",
       "    <tr style=\"text-align: right;\">\n",
       "      <th></th>\n",
       "      <th>count</th>\n",
       "      <th>mean</th>\n",
       "      <th>std</th>\n",
       "      <th>min</th>\n",
       "      <th>25%</th>\n",
       "      <th>50%</th>\n",
       "      <th>75%</th>\n",
       "      <th>max</th>\n",
       "    </tr>\n",
       "  </thead>\n",
       "  <tbody>\n",
       "    <tr>\n",
       "      <th>Unnamed: 0</th>\n",
       "      <td>28362.0</td>\n",
       "      <td>42948.166878</td>\n",
       "      <td>24747.811462</td>\n",
       "      <td>0.000000</td>\n",
       "      <td>20393.500000</td>\n",
       "      <td>45407.000000</td>\n",
       "      <td>64089.500000</td>\n",
       "      <td>82451.000000</td>\n",
       "    </tr>\n",
       "    <tr>\n",
       "      <th>release_date</th>\n",
       "      <td>28362.0</td>\n",
       "      <td>1990.239652</td>\n",
       "      <td>18.486997</td>\n",
       "      <td>1950.000000</td>\n",
       "      <td>1975.000000</td>\n",
       "      <td>1991.000000</td>\n",
       "      <td>2007.000000</td>\n",
       "      <td>2019.000000</td>\n",
       "    </tr>\n",
       "    <tr>\n",
       "      <th>len</th>\n",
       "      <td>28362.0</td>\n",
       "      <td>73.030534</td>\n",
       "      <td>41.831605</td>\n",
       "      <td>1.000000</td>\n",
       "      <td>42.000000</td>\n",
       "      <td>63.000000</td>\n",
       "      <td>93.000000</td>\n",
       "      <td>199.000000</td>\n",
       "    </tr>\n",
       "    <tr>\n",
       "      <th>dating</th>\n",
       "      <td>28362.0</td>\n",
       "      <td>0.021110</td>\n",
       "      <td>0.052366</td>\n",
       "      <td>0.000291</td>\n",
       "      <td>0.000923</td>\n",
       "      <td>0.001462</td>\n",
       "      <td>0.004049</td>\n",
       "      <td>0.647706</td>\n",
       "    </tr>\n",
       "    <tr>\n",
       "      <th>violence</th>\n",
       "      <td>28362.0</td>\n",
       "      <td>0.118371</td>\n",
       "      <td>0.178658</td>\n",
       "      <td>0.000284</td>\n",
       "      <td>0.001120</td>\n",
       "      <td>0.002506</td>\n",
       "      <td>0.192538</td>\n",
       "      <td>0.981781</td>\n",
       "    </tr>\n",
       "    <tr>\n",
       "      <th>world/life</th>\n",
       "      <td>28362.0</td>\n",
       "      <td>0.120984</td>\n",
       "      <td>0.172216</td>\n",
       "      <td>0.000291</td>\n",
       "      <td>0.001170</td>\n",
       "      <td>0.006579</td>\n",
       "      <td>0.197854</td>\n",
       "      <td>0.962105</td>\n",
       "    </tr>\n",
       "    <tr>\n",
       "      <th>night/time</th>\n",
       "      <td>28362.0</td>\n",
       "      <td>0.057356</td>\n",
       "      <td>0.111892</td>\n",
       "      <td>0.000289</td>\n",
       "      <td>0.001032</td>\n",
       "      <td>0.001949</td>\n",
       "      <td>0.065778</td>\n",
       "      <td>0.973684</td>\n",
       "    </tr>\n",
       "    <tr>\n",
       "      <th>shake the audience</th>\n",
       "      <td>28362.0</td>\n",
       "      <td>0.017418</td>\n",
       "      <td>0.040658</td>\n",
       "      <td>0.000284</td>\n",
       "      <td>0.000993</td>\n",
       "      <td>0.001595</td>\n",
       "      <td>0.009989</td>\n",
       "      <td>0.497463</td>\n",
       "    </tr>\n",
       "    <tr>\n",
       "      <th>family/gospel</th>\n",
       "      <td>28362.0</td>\n",
       "      <td>0.017045</td>\n",
       "      <td>0.041968</td>\n",
       "      <td>0.000289</td>\n",
       "      <td>0.000923</td>\n",
       "      <td>0.001504</td>\n",
       "      <td>0.004785</td>\n",
       "      <td>0.545303</td>\n",
       "    </tr>\n",
       "    <tr>\n",
       "      <th>romantic</th>\n",
       "      <td>28362.0</td>\n",
       "      <td>0.048676</td>\n",
       "      <td>0.106071</td>\n",
       "      <td>0.000284</td>\n",
       "      <td>0.000975</td>\n",
       "      <td>0.001754</td>\n",
       "      <td>0.042304</td>\n",
       "      <td>0.940789</td>\n",
       "    </tr>\n",
       "    <tr>\n",
       "      <th>communication</th>\n",
       "      <td>28362.0</td>\n",
       "      <td>0.076651</td>\n",
       "      <td>0.109497</td>\n",
       "      <td>0.000291</td>\n",
       "      <td>0.001144</td>\n",
       "      <td>0.002632</td>\n",
       "      <td>0.132111</td>\n",
       "      <td>0.645829</td>\n",
       "    </tr>\n",
       "    <tr>\n",
       "      <th>obscene</th>\n",
       "      <td>28362.0</td>\n",
       "      <td>0.097185</td>\n",
       "      <td>0.181314</td>\n",
       "      <td>0.000289</td>\n",
       "      <td>0.001053</td>\n",
       "      <td>0.001815</td>\n",
       "      <td>0.088799</td>\n",
       "      <td>0.992298</td>\n",
       "    </tr>\n",
       "    <tr>\n",
       "      <th>music</th>\n",
       "      <td>28362.0</td>\n",
       "      <td>0.060067</td>\n",
       "      <td>0.123346</td>\n",
       "      <td>0.000289</td>\n",
       "      <td>0.000975</td>\n",
       "      <td>0.001815</td>\n",
       "      <td>0.055109</td>\n",
       "      <td>0.956938</td>\n",
       "    </tr>\n",
       "    <tr>\n",
       "      <th>movement/places</th>\n",
       "      <td>28362.0</td>\n",
       "      <td>0.047417</td>\n",
       "      <td>0.091559</td>\n",
       "      <td>0.000284</td>\n",
       "      <td>0.000993</td>\n",
       "      <td>0.001645</td>\n",
       "      <td>0.054373</td>\n",
       "      <td>0.638021</td>\n",
       "    </tr>\n",
       "    <tr>\n",
       "      <th>light/visual perceptions</th>\n",
       "      <td>28362.0</td>\n",
       "      <td>0.049008</td>\n",
       "      <td>0.089553</td>\n",
       "      <td>0.000284</td>\n",
       "      <td>0.000993</td>\n",
       "      <td>0.001815</td>\n",
       "      <td>0.064302</td>\n",
       "      <td>0.667782</td>\n",
       "    </tr>\n",
       "    <tr>\n",
       "      <th>family/spiritual</th>\n",
       "      <td>28362.0</td>\n",
       "      <td>0.024155</td>\n",
       "      <td>0.051032</td>\n",
       "      <td>0.000284</td>\n",
       "      <td>0.000957</td>\n",
       "      <td>0.001645</td>\n",
       "      <td>0.025515</td>\n",
       "      <td>0.618073</td>\n",
       "    </tr>\n",
       "    <tr>\n",
       "      <th>sadness</th>\n",
       "      <td>28362.0</td>\n",
       "      <td>0.129402</td>\n",
       "      <td>0.181149</td>\n",
       "      <td>0.000284</td>\n",
       "      <td>0.001144</td>\n",
       "      <td>0.005263</td>\n",
       "      <td>0.235115</td>\n",
       "      <td>0.981424</td>\n",
       "    </tr>\n",
       "    <tr>\n",
       "      <th>feelings</th>\n",
       "      <td>28362.0</td>\n",
       "      <td>0.030995</td>\n",
       "      <td>0.071656</td>\n",
       "      <td>0.000289</td>\n",
       "      <td>0.000993</td>\n",
       "      <td>0.001754</td>\n",
       "      <td>0.032617</td>\n",
       "      <td>0.958810</td>\n",
       "    </tr>\n",
       "    <tr>\n",
       "      <th>age</th>\n",
       "      <td>28362.0</td>\n",
       "      <td>0.425148</td>\n",
       "      <td>0.264100</td>\n",
       "      <td>0.014286</td>\n",
       "      <td>0.185714</td>\n",
       "      <td>0.414286</td>\n",
       "      <td>0.642857</td>\n",
       "      <td>1.000000</td>\n",
       "    </tr>\n",
       "  </tbody>\n",
       "</table>\n",
       "</div>"
      ],
      "text/plain": [
       "                            count          mean           std          min  \\\n",
       "Unnamed: 0                28362.0  42948.166878  24747.811462     0.000000   \n",
       "release_date              28362.0   1990.239652     18.486997  1950.000000   \n",
       "len                       28362.0     73.030534     41.831605     1.000000   \n",
       "dating                    28362.0      0.021110      0.052366     0.000291   \n",
       "violence                  28362.0      0.118371      0.178658     0.000284   \n",
       "world/life                28362.0      0.120984      0.172216     0.000291   \n",
       "night/time                28362.0      0.057356      0.111892     0.000289   \n",
       "shake the audience        28362.0      0.017418      0.040658     0.000284   \n",
       "family/gospel             28362.0      0.017045      0.041968     0.000289   \n",
       "romantic                  28362.0      0.048676      0.106071     0.000284   \n",
       "communication             28362.0      0.076651      0.109497     0.000291   \n",
       "obscene                   28362.0      0.097185      0.181314     0.000289   \n",
       "music                     28362.0      0.060067      0.123346     0.000289   \n",
       "movement/places           28362.0      0.047417      0.091559     0.000284   \n",
       "light/visual perceptions  28362.0      0.049008      0.089553     0.000284   \n",
       "family/spiritual          28362.0      0.024155      0.051032     0.000284   \n",
       "sadness                   28362.0      0.129402      0.181149     0.000284   \n",
       "feelings                  28362.0      0.030995      0.071656     0.000289   \n",
       "age                       28362.0      0.425148      0.264100     0.014286   \n",
       "\n",
       "                                   25%           50%           75%  \\\n",
       "Unnamed: 0                20393.500000  45407.000000  64089.500000   \n",
       "release_date               1975.000000   1991.000000   2007.000000   \n",
       "len                          42.000000     63.000000     93.000000   \n",
       "dating                        0.000923      0.001462      0.004049   \n",
       "violence                      0.001120      0.002506      0.192538   \n",
       "world/life                    0.001170      0.006579      0.197854   \n",
       "night/time                    0.001032      0.001949      0.065778   \n",
       "shake the audience            0.000993      0.001595      0.009989   \n",
       "family/gospel                 0.000923      0.001504      0.004785   \n",
       "romantic                      0.000975      0.001754      0.042304   \n",
       "communication                 0.001144      0.002632      0.132111   \n",
       "obscene                       0.001053      0.001815      0.088799   \n",
       "music                         0.000975      0.001815      0.055109   \n",
       "movement/places               0.000993      0.001645      0.054373   \n",
       "light/visual perceptions      0.000993      0.001815      0.064302   \n",
       "family/spiritual              0.000957      0.001645      0.025515   \n",
       "sadness                       0.001144      0.005263      0.235115   \n",
       "feelings                      0.000993      0.001754      0.032617   \n",
       "age                           0.185714      0.414286      0.642857   \n",
       "\n",
       "                                   max  \n",
       "Unnamed: 0                82451.000000  \n",
       "release_date               2019.000000  \n",
       "len                         199.000000  \n",
       "dating                        0.647706  \n",
       "violence                      0.981781  \n",
       "world/life                    0.962105  \n",
       "night/time                    0.973684  \n",
       "shake the audience            0.497463  \n",
       "family/gospel                 0.545303  \n",
       "romantic                      0.940789  \n",
       "communication                 0.645829  \n",
       "obscene                       0.992298  \n",
       "music                         0.956938  \n",
       "movement/places               0.638021  \n",
       "light/visual perceptions      0.667782  \n",
       "family/spiritual              0.618073  \n",
       "sadness                       0.981424  \n",
       "feelings                      0.958810  \n",
       "age                           1.000000  "
      ]
     },
     "execution_count": 27,
     "metadata": {},
     "output_type": "execute_result"
    }
   ],
   "source": [
    "df.describe().T"
   ]
  },
  {
   "cell_type": "code",
   "execution_count": 7,
   "metadata": {},
   "outputs": [
    {
     "data": {
      "text/plain": [
       "Index(['Unnamed: 0', 'artist_name', 'track_name', 'release_date', 'genre',\n",
       "       'lyrics', 'len', 'dating', 'violence', 'world/life', 'night/time',\n",
       "       'shake the audience', 'family/gospel', 'romantic', 'communication',\n",
       "       'obscene', 'music', 'movement/places', 'light/visual perceptions',\n",
       "       'family/spiritual', 'sadness', 'feelings', 'topic', 'age'],\n",
       "      dtype='object')"
      ]
     },
     "execution_count": 7,
     "metadata": {},
     "output_type": "execute_result"
    }
   ],
   "source": [
    "df.columns"
   ]
  },
  {
   "cell_type": "code",
   "execution_count": 8,
   "metadata": {},
   "outputs": [
    {
     "data": {
      "text/plain": [
       "Unnamed: 0                  0\n",
       "artist_name                 0\n",
       "track_name                  0\n",
       "release_date                0\n",
       "genre                       0\n",
       "lyrics                      0\n",
       "len                         0\n",
       "dating                      0\n",
       "violence                    0\n",
       "world/life                  0\n",
       "night/time                  0\n",
       "shake the audience          0\n",
       "family/gospel               0\n",
       "romantic                    0\n",
       "communication               0\n",
       "obscene                     0\n",
       "music                       0\n",
       "movement/places             0\n",
       "light/visual perceptions    0\n",
       "family/spiritual            0\n",
       "sadness                     0\n",
       "feelings                    0\n",
       "topic                       0\n",
       "age                         0\n",
       "dtype: int64"
      ]
     },
     "execution_count": 8,
     "metadata": {},
     "output_type": "execute_result"
    }
   ],
   "source": [
    "df.isnull().sum()"
   ]
  },
  {
   "cell_type": "markdown",
   "metadata": {},
   "source": [
    "# Univariate"
   ]
  },
  {
   "cell_type": "code",
   "execution_count": 9,
   "metadata": {},
   "outputs": [
    {
     "data": {
      "text/plain": [
       "genre\n",
       "pop        7038\n",
       "country    5444\n",
       "blues      4603\n",
       "rock       4032\n",
       "jazz       3844\n",
       "reggae     2497\n",
       "hip hop     904\n",
       "Name: count, dtype: int64"
      ]
     },
     "execution_count": 9,
     "metadata": {},
     "output_type": "execute_result"
    }
   ],
   "source": [
    "counts_per_type = df['genre'].value_counts()\n",
    "counts_per_type"
   ]
  },
  {
   "cell_type": "code",
   "execution_count": 56,
   "metadata": {},
   "outputs": [
    {
     "data": {
      "image/png": "[encoded data removed]",
      "text/plain": [
       "<Figure size 640x480 with 1 Axes>"
      ]
     },
     "metadata": {},
     "output_type": "display_data"
    }
   ],
   "source": [
    "plt.bar(counts_per_type.index, counts_per_type.values, color=['red', '#00e64d', 'blue', 'orange', '#5900b3', '#00e6e6', '#009933'])\n",
    "plt.xlabel('Genre')\n",
    "plt.ylabel('Counts of songs')\n",
    "plt.title('Counts of songs by music genre')\n",
    "plt.show()"
   ]
  },
  {
   "cell_type": "markdown",
   "metadata": {},
   "source": [
    "Pop is the most common genre in the dataset, over 7000. Hip hop is the least common genre with only 904 songs."
   ]
  },
  {
   "cell_type": "code",
   "execution_count": 44,
   "metadata": {},
   "outputs": [
    {
     "data": {
      "image/png": "[encoded data removed]",
      "text/plain": [
       "<Figure size 640x480 with 1 Axes>"
      ]
     },
     "metadata": {},
     "output_type": "display_data"
    }
   ],
   "source": [
    "sns.violinplot(data=df, x='dating')\n",
    "plt.show()"
   ]
  },
  {
   "cell_type": "code",
   "execution_count": 33,
   "metadata": {},
   "outputs": [
    {
     "data": {
      "image/png": "[encoded data removed]",
      "text/plain": [
       "<Figure size 640x480 with 1 Axes>"
      ]
     },
     "metadata": {},
     "output_type": "display_data"
    }
   ],
   "source": [
    "sns.histplot(data=df, x='release_date')\n",
    "plt.title('Counts of songs by release dates')\n",
    "plt.xlabel('Year of release')\n",
    "plt.ylabel('Number of songs')\n",
    "plt.show()"
   ]
  },
  {
   "cell_type": "markdown",
   "metadata": {},
   "source": [
    "The dataset is almost evenly distributed with older songs being a bit less common. The last year shown in the dataset has the most songs and the 1950s have the least amount of songs."
   ]
  },
  {
   "cell_type": "code",
   "execution_count": 74,
   "metadata": {},
   "outputs": [
    {
     "data": {
      "image/png": "[encoded data removed]",
      "text/plain": [
       "<Figure size 640x480 with 1 Axes>"
      ]
     },
     "metadata": {},
     "output_type": "display_data"
    }
   ],
   "source": [
    "# Gets the top 10 artists\n",
    "top_10_artists = df['artist_name'].value_counts().head(10)\n",
    "# Gets colors from sns\n",
    "colors = sns.color_palette('Set2', len(top_10_artists))\n",
    "\n",
    "plt.bar(top_10_artists.index, top_10_artists.values, color=colors)\n",
    "plt.xlabel('Artist', weight='bold')\n",
    "plt.ylabel('Number of songs', weight='bold')\n",
    "plt.title('Top 10 Artists by songs', weight='bold')\n",
    "# Rotates x axis labels to make it readable\n",
    "plt.xticks(rotation=45)\n",
    "plt.show()"
   ]
  },
  {
   "cell_type": "markdown",
   "metadata": {},
   "source": [
    "Johny Cash has the most appearences in this dataset with 190. He is followed closely by Ella Fitzgerald with 188 and then Dean Martin is next with 146. That is a lot of counts for each of them as there are many artists in the dataset with only one appearence each."
   ]
  },
  {
   "cell_type": "code",
   "execution_count": 69,
   "metadata": {},
   "outputs": [
    {
     "data": {
      "text/plain": [
       "topic\n",
       "sadness       6094\n",
       "violence      5707\n",
       "world/life    5419\n",
       "obscene       4881\n",
       "music         2303\n",
       "night/time    1823\n",
       "romantic      1523\n",
       "feelings       612\n",
       "Name: count, dtype: int64"
      ]
     },
     "execution_count": 69,
     "metadata": {},
     "output_type": "execute_result"
    }
   ],
   "source": [
    "topic_counts = df['topic'].value_counts()\n",
    "topic_counts\n"
   ]
  },
  {
   "cell_type": "code",
   "execution_count": 71,
   "metadata": {},
   "outputs": [
    {
     "data": {
      "image/png": "[encoded data removed]",
      "text/plain": [
       "<Figure size 640x480 with 1 Axes>"
      ]
     },
     "metadata": {},
     "output_type": "display_data"
    }
   ],
   "source": [
    "plt.bar(topic_counts.index, topic_counts.values, color=['red', '#00e64d', 'blue', 'orange', '#5900b3', '#00e6e6', '#009933'])\n",
    "plt.xlabel('')\n",
    "plt.ylabel('')\n",
    "plt.title('')\n",
    "plt.show()"
   ]
  }
 ],
 "metadata": {
  "kernelspec": {
   "display_name": "ds",
   "language": "python",
   "name": "python3"
  },
  "language_info": {
   "codemirror_mode": {
    "name": "ipython",
    "version": 3
   },
   "file_extension": ".py",
   "mimetype": "text/x-python",
   "name": "python",
   "nbconvert_exporter": "python",
   "pygments_lexer": "ipython3",
   "version": "3.12.7"
  }
 },
 "nbformat": 4,
 "nbformat_minor": 2
}
